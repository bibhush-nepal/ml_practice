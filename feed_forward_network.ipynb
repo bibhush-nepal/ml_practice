{
 "cells": [
  {
   "cell_type": "markdown",
   "metadata": {},
   "source": [
    "### 1. Perceptron Algorithm"
   ]
  },
  {
   "cell_type": "markdown",
   "metadata": {},
   "source": [
    "Here, I have implemented the simplest perceptron model for classification. I have used a relu activation function for this purpose."
   ]
  },
  {
   "cell_type": "code",
   "execution_count": 54,
   "metadata": {},
   "outputs": [],
   "source": [
    "import numpy as np\n",
    "import pandas as pd\n",
    "import matplotlib.pyplot as plt\n",
    "from sklearn.metrics import accuracy_score\n",
    "import warnings\n",
    "warnings.filterwarnings(\"ignore\")"
   ]
  },
  {
   "cell_type": "code",
   "execution_count": 55,
   "metadata": {},
   "outputs": [],
   "source": [
    "with open('Xlin_sep.npy', 'rb') as f:\n",
    "    X = np.load(f)\n",
    "with open('ylin_sep.npy','rb') as f:\n",
    "    y = np.load(f)\n",
    "X_train = X[:150]\n",
    "y_train = y[:150]\n",
    "X_test = X[150:]\n",
    "y_test = y[150:]"
   ]
  },
  {
   "cell_type": "code",
   "execution_count": 56,
   "metadata": {},
   "outputs": [],
   "source": [
    "def activation(x):\n",
    "    if x>0:\n",
    "        return 1\n",
    "    else:\n",
    "        return -1"
   ]
  },
  {
   "cell_type": "markdown",
   "metadata": {},
   "source": [
    "As the input has two features, we take these as the input for the perceptron. For each input, I have declared a weight. In order to update the weights, I find the error of the new prediction and it they are not the same, then I simply multiply the learning rate 'mu' and the input."
   ]
  },
  {
   "cell_type": "code",
   "execution_count": 57,
   "metadata": {},
   "outputs": [],
   "source": [
    "def perceptron(X,y,mu):\n",
    "    w = np.zeros((X.shape[1]))\n",
    "    it = []\n",
    "    weights = []\n",
    "    for _ in range(50):\n",
    "        for i in range(len(X)):\n",
    "            weights.append(w)\n",
    "            pred = w[0]*X[i,0]+w[1]*X[i,1]\n",
    "            y_hat = activation(pred)\n",
    "            diff = y[i]-y_hat\n",
    "            if(diff != 0):\n",
    "                w += mu*diff*X[i]\n",
    "    return w"
   ]
  },
  {
   "cell_type": "code",
   "execution_count": 58,
   "metadata": {},
   "outputs": [],
   "source": [
    "def prediction(x,w):\n",
    "    y_hat = []\n",
    "    pred = np.dot(x,w)\n",
    "    for i in pred:\n",
    "        y_hat.append(activation(i))\n",
    "    return y_hat"
   ]
  },
  {
   "cell_type": "code",
   "execution_count": 59,
   "metadata": {},
   "outputs": [],
   "source": [
    "def accuracy(y,y_pred):\n",
    "    correct = 0\n",
    "    for i in range(len(y)):\n",
    "        if y[i] == y_pred[i]:\n",
    "            correct += 1\n",
    "    return correct / float(len(y)) * 100.0"
   ]
  },
  {
   "cell_type": "code",
   "execution_count": 60,
   "metadata": {},
   "outputs": [
    {
     "name": "stdout",
     "output_type": "stream",
     "text": [
      "Train Accuracy:  100.0\n",
      "Test Accuracy:  98.0\n"
     ]
    }
   ],
   "source": [
    "weights = perceptron(X_train,y_train,0.3)\n",
    "acc_test = accuracy(y_test,prediction(X_test,weights))\n",
    "acc_train = accuracy(y_train,prediction(X_train,weights))\n",
    "print(\"Train Accuracy: \",acc_train)\n",
    "print(\"Test Accuracy: \",acc_test)"
   ]
  },
  {
   "cell_type": "code",
   "execution_count": 61,
   "metadata": {},
   "outputs": [
    {
     "data": {
      "text/plain": [
       "[<matplotlib.lines.Line2D at 0x1fe8e8c82e0>]"
      ]
     },
     "execution_count": 61,
     "metadata": {},
     "output_type": "execute_result"
    },
    {
     "data": {
      "image/png": "[encoded data removed]",
      "text/plain": [
       "<Figure size 432x288 with 1 Axes>"
      ]
     },
     "metadata": {
      "needs_background": "light"
     },
     "output_type": "display_data"
    }
   ],
   "source": [
    "plt.scatter(X_train[:,0][y_train==-1],X_train[:,1][y_train==-1])\n",
    "plt.scatter(X_train[:,0][y_train==1],X_train[:,1][y_train==1])\n",
    "plt.title(\"Linearly Seperable Train data\")\n",
    "plt.xlabel(\"Feature 1\")\n",
    "plt.ylabel(\"Feature 2\")\n",
    "plt.plot(weights,color='r')"
   ]
  },
  {
   "cell_type": "code",
   "execution_count": 62,
   "metadata": {},
   "outputs": [
    {
     "data": {
      "text/plain": [
       "[<matplotlib.lines.Line2D at 0x1fe8e921820>]"
      ]
     },
     "execution_count": 62,
     "metadata": {},
     "output_type": "execute_result"
    },
    {
     "data": {
      "image/png": "[encoded data removed]",
      "text/plain": [
       "<Figure size 432x288 with 1 Axes>"
      ]
     },
     "metadata": {
      "needs_background": "light"
     },
     "output_type": "display_data"
    }
   ],
   "source": [
    "plt.scatter(X_test[:,0][y_test==-1],X_test[:,1][y_test==-1])\n",
    "plt.scatter(X_test[:,0][y_test==1],X_test[:,1][y_test==1])\n",
    "plt.title(\"Linearly Seperable Test data\")\n",
    "plt.xlabel(\"Feature 1\")\n",
    "plt.ylabel(\"Feature 2\")\n",
    "plt.plot(weights,color='r')"
   ]
  },
  {
   "cell_type": "markdown",
   "metadata": {},
   "source": [
    "For non-linear data, I have used a different activation function. It is known that ReLU is not very effective for nnon-linearly seperable data, I have used sigmoid function which is a widely used function for this task. Rest of the method is the same as before."
   ]
  },
  {
   "cell_type": "code",
   "execution_count": 63,
   "metadata": {},
   "outputs": [],
   "source": [
    "with open('Xlinnoise_sep.npy', 'rb') as f:\n",
    "    X1 = np.load(f)\n",
    "with open('ylinnoise_sep.npy','rb') as f:\n",
    "    y1 = np.load(f)\n",
    "X_train_1 = X1[:150]\n",
    "y_train_1 = y1[:150]\n",
    "X_test_1 = X1[150:]\n",
    "y_test_1 = y1[150:]"
   ]
  },
  {
   "cell_type": "code",
   "execution_count": 64,
   "metadata": {},
   "outputs": [],
   "source": [
    "def activation_nonlin(x):\n",
    "    z = (np.exp(x)-np.exp(-x))/(np.exp(x)+np.exp(-x))\n",
    "    if z>0.5:\n",
    "        return 1\n",
    "    else:\n",
    "        return -1"
   ]
  },
  {
   "cell_type": "code",
   "execution_count": 65,
   "metadata": {},
   "outputs": [],
   "source": [
    "def perceptron_nonlin(X,y,mu):\n",
    "    w = np.zeros((X.shape[1]))\n",
    "    y_hat = np.zeros(len(y))\n",
    "    it = []\n",
    "    weights = []\n",
    "    for _ in range(50):\n",
    "        for i in range(len(X)):\n",
    "            weights.append(w)\n",
    "            pred = w[0]*X[i,0]+w[1]*X[i,1]\n",
    "            y_hat = activation_nonlin(pred)\n",
    "            diff = y[i]-y_hat\n",
    "            if(diff != 0):\n",
    "                w += mu*diff*X[i]\n",
    "    return w"
   ]
  },
  {
   "cell_type": "code",
   "execution_count": 68,
   "metadata": {},
   "outputs": [
    {
     "name": "stdout",
     "output_type": "stream",
     "text": [
      "Test Accuracy:  80.0\n"
     ]
    }
   ],
   "source": [
    "weights = perceptron_nonlin(X_train_1,y_train_1,0.001)\n",
    "y_pred = prediction(X_test_1,weights)\n",
    "acc_test = accuracy(y_test_1,prediction(X_test_1,weights))\n",
    "print(\"Test Accuracy: \",acc_test)"
   ]
  },
  {
   "cell_type": "code",
   "execution_count": 69,
   "metadata": {},
   "outputs": [
    {
     "data": {
      "text/plain": [
       "[<matplotlib.lines.Line2D at 0x1fe8f9f42e0>]"
      ]
     },
     "execution_count": 69,
     "metadata": {},
     "output_type": "execute_result"
    },
    {
     "data": {
      "image/png": "[encoded data removed]",
      "text/plain": [
       "<Figure size 432x288 with 1 Axes>"
      ]
     },
     "metadata": {
      "needs_background": "light"
     },
     "output_type": "display_data"
    }
   ],
   "source": [
    "plt.scatter(X_train_1[:,0][y_train_1==-1],X_train_1[:,1][y_train_1==-1])\n",
    "plt.scatter(X_train_1[:,0][y_train_1==1],X_train_1[:,1][y_train_1==1])\n",
    "plt.title(\"Non-linear Train data\")\n",
    "plt.xlabel(\"Feature 1\")\n",
    "plt.ylabel(\"Feature 2\")\n",
    "plt.plot(weights,color='r')"
   ]
  },
  {
   "cell_type": "markdown",
   "metadata": {},
   "source": [
    "I wasnt quite sure about how to deal with this kind of data. But when taking a look at https://machinelearningmastery.com/polynomial-features-transforms-for-machine-learning/ post, I realised that using the polynomial features could handle such a circular data. For the polynomial feature, I have used the multiplication of two features, the power and also the square."
   ]
  },
  {
   "cell_type": "code",
   "execution_count": 71,
   "metadata": {},
   "outputs": [],
   "source": [
    "with open('circles_x.npy', 'rb') as f:\n",
    "    X2 = np.load(f)\n",
    "with open('circles_y.npy','rb') as f:\n",
    "    y2 = np.load(f)"
   ]
  },
  {
   "cell_type": "code",
   "execution_count": 72,
   "metadata": {},
   "outputs": [
    {
     "data": {
      "text/plain": [
       "(200, 6)"
      ]
     },
     "execution_count": 72,
     "metadata": {},
     "output_type": "execute_result"
    }
   ],
   "source": [
    "col1 = []\n",
    "col2 = []\n",
    "col3 = []\n",
    "col4 = []\n",
    "\n",
    "for i,j in zip(X2[:,0],X2[:,1]):\n",
    "    mul = i*j\n",
    "    powe = np.power(i,j)\n",
    "    pol1 = i**2\n",
    "    pol2 = j**2\n",
    "    col1.append([mul])\n",
    "    col2.append([powe])\n",
    "    col3.append([pol1])\n",
    "    col4.append([pol2])\n",
    "X2 = np.append(X2,col1,axis=1)\n",
    "X2 = np.append(X2,col2,axis=1)\n",
    "X2 = np.append(X2,col3,axis=1)\n",
    "X2 = np.append(X2,col4,axis=1)\n",
    "X2.shape"
   ]
  },
  {
   "cell_type": "code",
   "execution_count": 77,
   "metadata": {},
   "outputs": [
    {
     "data": {
      "text/plain": [
       "(150, 6)"
      ]
     },
     "execution_count": 77,
     "metadata": {},
     "output_type": "execute_result"
    }
   ],
   "source": [
    "X_train_2 = X2[:150]\n",
    "y_train_2 = y2[:150]\n",
    "X_test_2 = X2[150:]\n",
    "y_test_2 = y2[150:]\n",
    "X_train_2.shape"
   ]
  },
  {
   "cell_type": "code",
   "execution_count": 83,
   "metadata": {},
   "outputs": [],
   "source": [
    "def perceptron_poly(X,y,mu):\n",
    "    w = np.zeros((X.shape[1]))\n",
    "    y_hat = np.zeros(len(y))\n",
    "    it = []\n",
    "    weights = []\n",
    "    for _ in range(50):\n",
    "        for i in range(len(X)):\n",
    "            weights.append(w)\n",
    "            pred = w[0]*X[i,0]+w[1]*X[i,1]+w[2]*X[i,2]+w[3]*X[i,3]+w[4]*X[i,4]+w[5]*X[i,5]\n",
    "            y_hat = activation_nonlin(pred)\n",
    "            diff = y[i]-y_hat\n",
    "            if(diff != 0):\n",
    "                w += mu*diff*X[i]\n",
    "    return w\n",
    "def pred_poly(X,w):\n",
    "    y_hat = []\n",
    "    pred = np.dot(X,w)\n",
    "    for i in pred:\n",
    "        y_hat.append(activation(i))\n",
    "    return y_hat"
   ]
  },
  {
   "cell_type": "code",
   "execution_count": 84,
   "metadata": {},
   "outputs": [
    {
     "name": "stdout",
     "output_type": "stream",
     "text": [
      "Test Accuracy:  60.0\n"
     ]
    }
   ],
   "source": [
    "weights_circ = perceptron_poly(X_train_2,y_train_2,0.01)\n",
    "acc_test = accuracy(y_test_2,pred_poly(X_test_2,weights_circ))\n",
    "print(\"Test Accuracy: \",acc_test)"
   ]
  },
  {
   "cell_type": "markdown",
   "metadata": {},
   "source": [
    "I couldn't get the required graphs."
   ]
  },
  {
   "cell_type": "markdown",
   "metadata": {},
   "source": [
    "### 2. Feed-Forward Neural Network."
   ]
  },
  {
   "cell_type": "code",
   "execution_count": 23,
   "metadata": {},
   "outputs": [],
   "source": [
    "from sklearn.datasets import load_digits"
   ]
  },
  {
   "cell_type": "markdown",
   "metadata": {},
   "source": [
    "Define a class for Neural Network which contains the weights, biases and the no of layers are not predefined as required by the exercise. I have used tanh activation function and cross entropy as my loss function for training. I have taken some of the idea for the model from https://medium.com/@ethan.stone/building-a-neural-network-from-scratch-part-1-feedforward-47f7c35a971f. I have calculated the derivative of the cost function inside the function but others are calculated inside the back propagation function."
   ]
  },
  {
   "cell_type": "code",
   "execution_count": 143,
   "metadata": {},
   "outputs": [],
   "source": [
    "class NN():\n",
    "    def __init__(self,layers):\n",
    "        '''\n",
    "        nlayers: number of layers in the neural network\n",
    "        weights: are the weights of the network whcih are randomly generated from a normal distribution\n",
    "        dotoutput: is the output from the dot product of weights and the input. \n",
    "        I saved this as it could be useful during feedforward and back propagation.\n",
    "        activations: are the output after the activation function is applied to the dot values\n",
    "        '''\n",
    "        self.nlayers = len(layers)\n",
    "        self.weights = [np.random.randn(next_layer,current_layer) for current_layer,next_layer in zip(layers[:-1], layers[1:])]\n",
    "        self.dotoutput = []\n",
    "        self.activations = []\n",
    "        \n",
    "    def fit(self,X,y,mu=0.01):\n",
    "        epochs = 20\n",
    "        for i in range(epochs):\n",
    "            print(\"Epoch: \",i+1,\"/\",epochs)\n",
    "            self.ffnn(X.T)\n",
    "            self.backprop(self.activations[-1],y,mu)\n",
    "\n",
    "    def tanh(self,x):\n",
    "        z = (np.exp(x)-np.exp(-x))/(np.exp(x)+np.exp(-x))\n",
    "        return z\n",
    "    def soft_max(self,x):\n",
    "        return (np.exp(x-max(x))/np.sum(np.exp(x-max(x))))\n",
    "    def loss_func(self,y,y_hat):\n",
    "        loss = (1/len(y_hat))*np.sum(-(y*np.log(y_hat)+(1-y)*np.log(1-y_hat)))\n",
    "        return loss\n",
    "    def predict(self,X):\n",
    "        self.ffnn(X.T)\n",
    "        return self.activations[-1]\n",
    "    \n",
    "    def der_dotout(self,y,y_hat):\n",
    "        dev = ((1-y)/1-y_hat)-(y/y_hat)\n",
    "        return dev\n",
    "    def der_tanh(self,x):\n",
    "        dev = 1.0-(self.tanh(x))**2\n",
    "        return dev\n",
    "        \n",
    "    def ffnn(self,X):\n",
    "        ac = X\n",
    "        self.activations = [X]\n",
    "        #on = np.ones((X.shape[0],1))\n",
    "        #self.weights = append(self.weights,on,axis=1)\n",
    "        for l in range(self.nlayers-1):\n",
    "            dotout = np.dot(self.weights[l],ac)\n",
    "            self.dotoutput.append(dotout)\n",
    "            if(l==self.nlayers-1):\n",
    "                ac = loss_func()\n",
    "            else:\n",
    "                ac = self.tanh(dotout)\n",
    "            self.activations.append(ac)\n",
    "            \n",
    "    def backprop(self,y_hat,y,mu):\n",
    "        n = len(y_hat)\n",
    "        der_costout = self.der_dotout(y,y_hat)\n",
    "        for l in reversed(range(self.nlayers-1)):\n",
    "            der_dot = np.multiply(der_costout,self.der_tanh(self.dotoutput[l]))\n",
    "            der_weights = np.dot(der_dot,self.activations[l].T)\n",
    "            der_costout = np.dot(self.weights[l].T,der_costout)\n",
    "            self.weights[l] = self.weights[l] - mu*der_weights"
   ]
  },
  {
   "cell_type": "code",
   "execution_count": 148,
   "metadata": {},
   "outputs": [],
   "source": [
    "mnist = load_digits()\n",
    "X = mnist['data']\n",
    "y = mnist['target']\n",
    "part = int(0.8*len(X))\n",
    "on = np.ones((X.shape[0],1))\n",
    "X = np.append(X,on,axis=1)\n",
    "X_train = X[:part]\n",
    "y_train = y[:part]\n",
    "X_test = X[part:]\n",
    "y_test = y[part:]"
   ]
  },
  {
   "cell_type": "code",
   "execution_count": 145,
   "metadata": {},
   "outputs": [
    {
     "name": "stdout",
     "output_type": "stream",
     "text": [
      "Epoch:  1 / 20\n",
      "Epoch:  2 / 20\n",
      "Epoch:  3 / 20\n",
      "Epoch:  4 / 20\n",
      "Epoch:  5 / 20\n",
      "Epoch:  6 / 20\n",
      "Epoch:  7 / 20\n",
      "Epoch:  8 / 20\n",
      "Epoch:  9 / 20\n",
      "Epoch:  10 / 20\n",
      "Epoch:  11 / 20\n",
      "Epoch:  12 / 20\n",
      "Epoch:  13 / 20\n",
      "Epoch:  14 / 20\n",
      "Epoch:  15 / 20\n",
      "Epoch:  16 / 20\n",
      "Epoch:  17 / 20\n",
      "Epoch:  18 / 20\n",
      "Epoch:  19 / 20\n",
      "Epoch:  20 / 20\n"
     ]
    }
   ],
   "source": [
    "no_x = X_train.shape[1]\n",
    "nn = NN([no_x,128,64,32,10])\n",
    "nn.fit(X_train,y_train)"
   ]
  },
  {
   "cell_type": "markdown",
   "metadata": {},
   "source": [
    "### 3. MLP using sklearn"
   ]
  },
  {
   "cell_type": "code",
   "execution_count": 28,
   "metadata": {},
   "outputs": [],
   "source": [
    "from sklearn.neural_network import MLPClassifier\n",
    "from sklearn.model_selection import RandomizedSearchCV"
   ]
  },
  {
   "cell_type": "code",
   "execution_count": 29,
   "metadata": {},
   "outputs": [],
   "source": [
    "param_mlp = {\n",
    "    'hidden_layer_sizes': [(64,32,16),(32,16),(64,16,8,4,2),(32,8,4)],\n",
    "    'activation': ['identity', 'logistic','tanh', 'relu'],\n",
    "    'solver': ['lbfgs','sgd', 'adam'],\n",
    "    'alpha': [0.00001, 0.0001, 0.001, 0.01, 0.1, 1, 10],\n",
    "    'learning_rate': ['constant','adaptive','invscaling']\n",
    "}\n",
    "clf = MLPClassifier()\n",
    "random_MLP = RandomizedSearchCV(clf,param_mlp,cv=5)\n",
    "best_model = random_MLP.fit(X_train,y_train)"
   ]
  },
  {
   "cell_type": "code",
   "execution_count": 768,
   "metadata": {},
   "outputs": [
    {
     "name": "stdout",
     "output_type": "stream",
     "text": [
      "Best estimator is:  MLPClassifier(alpha=1e-05, hidden_layer_sizes=(64, 32, 16),\n",
      "              learning_rate='adaptive')\n",
      "The accuracy:  0.9027777777777778\n"
     ]
    }
   ],
   "source": [
    "print(\"Best estimator is: \",best_model.best_estimator_)\n",
    "prediction = best_model.predict(X_test)\n",
    "print(\"The accuracy: \",accuracy_score(y_test,prediction))"
   ]
  }
 ],
 "metadata": {
  "kernelspec": {
   "display_name": "Python 3",
   "language": "python",
   "name": "python3"
  },
  "language_info": {
   "codemirror_mode": {
    "name": "ipython",
    "version": 3
   },
   "file_extension": ".py",
   "mimetype": "text/x-python",
   "name": "python",
   "nbconvert_exporter": "python",
   "pygments_lexer": "ipython3",
   "version": "3.8.5"
  }
 },
 "nbformat": 4,
 "nbformat_minor": 4
}
